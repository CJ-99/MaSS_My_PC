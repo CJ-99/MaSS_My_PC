{
  "nbformat": 4,
  "nbformat_minor": 0,
  "metadata": {
    "colab": {
      "name": "ResNet_Format",
      "provenance": [],
      "collapsed_sections": []
    },
    "kernelspec": {
      "name": "python3",
      "display_name": "Python 3"
    },
    "language_info": {
      "name": "python"
    }
  },
  "cells": [
    {
      "cell_type": "code",
      "execution_count": null,
      "metadata": {
        "id": "tBEjqnXnGIzn"
      },
      "outputs": [],
      "source": [
        "import torch\n",
        "from torch import nn\n",
        "import torchvision\n",
        "import pandas as pd\n",
        "import torchvision.transforms as transforms\n",
        "import matplotlib.pyplot as plt\n",
        "import numpy as np\n",
        "import ssl\n",
        "import seaborn as sns\n",
        "import time\n",
        "\n",
        "sns.set_theme()\n",
        "ssl._create_default_https_context = ssl._create_unverified_context"
      ]
    },
    {
      "cell_type": "code",
      "source": [
        "# Device configuration\n",
        "device = torch.device('cuda' if torch.cuda.is_available() else 'cpu')"
      ],
      "metadata": {
        "id": "ryBw13Y_GQOw"
      },
      "execution_count": null,
      "outputs": []
    },
    {
      "cell_type": "code",
      "source": [
        "# Hyper-parameters\n",
        "num_epochs = 300\n",
        "batch_size = 64\n",
        "learning_rate = 0.01"
      ],
      "metadata": {
        "id": "Q37yHSzZGRua"
      },
      "execution_count": null,
      "outputs": []
    },
    {
      "cell_type": "code",
      "source": [
        "# dataset has PILImage images of range [0, 1].\n",
        "# We transform them to Tensors of normalized range [-1, 1]\n",
        "transform = transforms.Compose(\n",
        "    [transforms.ToTensor(),\n",
        "     transforms.Normalize((0.5, 0.5, 0.5), (0.5, 0.5, 0.5)),\n",
        "     transforms.RandomHorizontalFlip(),\n",
        "     transforms.RandomVerticalFlip()])\n",
        "\n",
        "# CIFAR10: 60000 32x32 color images in 10 classes, with 6000 images per class\n",
        "train_dataset = torchvision.datasets.CIFAR10(root='./data', train=True,\n",
        "                                        download=True, transform=transform)\n",
        "\n",
        "test_dataset = torchvision.datasets.CIFAR10(root='./data', train=False,\n",
        "                                       download=True, transform=transform)\n",
        "\n",
        "train_loader = torch.utils.data.DataLoader(train_dataset, batch_size=batch_size,\n",
        "                                          shuffle=True)\n",
        "\n",
        "test_loader = torch.utils.data.DataLoader(test_dataset, batch_size=batch_size,\n",
        "                                         shuffle=False)\n",
        "\n",
        "classes = ('plane', 'car', 'bird', 'cat',\n",
        "           'deer', 'dog', 'frog', 'horse', 'ship', 'truck')"
      ],
      "metadata": {
        "id": "dLfUS6y0GVA2"
      },
      "execution_count": null,
      "outputs": []
    },
    {
      "cell_type": "code",
      "source": [
        "class ResBlock(nn.Module):\n",
        "  \"\"\"\n",
        "  Residual block of 2 conv layers:\n",
        "  Conv -> Norm -> Act -> Conv -> Norm -> Act\n",
        "     |__[Optional: 1x1 Conv -> Norm]__|\n",
        "  \"\"\"\n",
        "  def __init__(self, in_channels, mid_channels, out_channels, downsample=None):\n",
        "    super().__init__()\n",
        "    self.downsample = isinstance(downsample, int)\n",
        "    self.conv1 = nn.Conv2d(in_channels, mid_channels, 3, padding=1, stride=(downsample or 1))\n",
        "    self.norm1 = nn.BatchNorm2d(mid_channels)\n",
        "    self.act1 = nn.ReLU()\n",
        "    self.conv2 = nn.Conv2d(mid_channels, out_channels, 3, padding=1)\n",
        "    self.norm2 = nn.BatchNorm2d(out_channels)\n",
        "    self.act2 = nn.ReLU()\n",
        "    if self.downsample:\n",
        "      self.convp = nn.Conv2d(in_channels, out_channels, 1, padding=0, stride=downsample)\n",
        "      self.normp = nn.BatchNorm2d(out_channels)\n",
        "    \n",
        "  def forward(self, x):\n",
        "    x_ = self.act1(self.norm1(self.conv1(x)))\n",
        "    x_ = self.norm2(self.conv2(x_))\n",
        "    if self.downsample:\n",
        "      x = self.normp(self.convp(x))\n",
        "    x = x + x_\n",
        "    return self.act2(x)\n",
        "\n",
        "    \n",
        "class ResNet(nn.Module):\n",
        "  def __init__(self, channels=[16,32,64],\n",
        "               num_classes=10):\n",
        "    super().__init__()\n",
        "    self.conv1 = nn.Conv2d(3, channels[0], 3, padding=1)\n",
        "    self.block1 = nn.Sequential(\n",
        "                                *[\n",
        "                                ResBlock(channels[0], channels[0], channels[0])\n",
        "                                for i in range(5)\n",
        "                                ])\n",
        "    self.block2 = nn.Sequential(ResBlock(channels[0], channels[1], channels[1], downsample=2),\n",
        "                                *[\n",
        "                                ResBlock(channels[1], channels[1], channels[1])\n",
        "                                for i in range(4)\n",
        "                                ])\n",
        "    self.block3 = nn.Sequential(ResBlock(channels[1], channels[2], channels[2], downsample=2),\n",
        "                                *[\n",
        "                                ResBlock(channels[2], channels[2], channels[2])\n",
        "                                for i in range(4)\n",
        "                                ])\n",
        "    self.pool = nn.AvgPool2d(8)\n",
        "    self.flat_channels = channels[2]\n",
        "    self.fc = nn.Linear(channels[2], num_classes)\n",
        "    self.prob = nn.Softmax(dim=1)\n",
        "\n",
        "  def forward(self, x):\n",
        "    B = x.shape[0]\n",
        "    x = self.conv1(x)\n",
        "    x = self.block1(x)\n",
        "    x = self.block2(x)\n",
        "    x = self.block3(x)\n",
        "    x = self.pool(x)\n",
        "    x = torch.flatten(x,1)\n",
        "    x = self.fc(x)\n",
        "    return x"
      ],
      "metadata": {
        "id": "7elYArKHGdy8"
      },
      "execution_count": null,
      "outputs": []
    },
    {
      "cell_type": "code",
      "source": [
        "def plotLosses(epochs, Loss, title):\n",
        "    plt.figure(figsize=(10,6))\n",
        "    plt.title(title)\n",
        "    plt.plot(epochs, Loss, label = \"Loss\")\n",
        "    plt.legend()\n",
        "    plt.xlabel(\"Epochs\")\n",
        "    plt.ylabel(\"Loss\")\n",
        "    plt.savefig(title + '.png')"
      ],
      "metadata": {
        "id": "i67P8N7kGfhK"
      },
      "execution_count": null,
      "outputs": []
    },
    {
      "cell_type": "code",
      "source": [
        "model = ResNet().to(device)\n",
        "\n",
        "criterion = nn.CrossEntropyLoss()\n",
        "optimizer = torch.optim.SGD(model.parameters(), lr=learning_rate)\n",
        "opt = 'SGD'"
      ],
      "metadata": {
        "id": "D9zOZ_yLGjPw"
      },
      "execution_count": null,
      "outputs": []
    },
    {
      "cell_type": "code",
      "source": [
        "epochs = []\n",
        "n_total_steps = len(train_loader)\n",
        "train_loss_average = torch.zeros(num_epochs)\n",
        "valid_loss_average = torch.zeros(num_epochs)\n",
        "train_accuracy = torch.zeros(num_epochs)\n",
        "valid_accuracy = torch.zeros(num_epochs)\n",
        "scheduler = torch.optim.lr_scheduler.MultiStepLR(optimizer, milestones=[150,225], gamma=0.1)"
      ],
      "metadata": {
        "id": "Td46OK4XGq5y"
      },
      "execution_count": null,
      "outputs": []
    },
    {
      "cell_type": "code",
      "source": [
        "def train():\n",
        "\n",
        "    model.train()\n",
        "    running_train_loss = 0\n",
        "    correct = 0\n",
        "    total = 0\n",
        "\n",
        "    for i, (images, labels) in enumerate(train_loader):\n",
        "        images = images.to(device)\n",
        "        labels = labels.to(device)\n",
        "\n",
        "        # Forward pass\n",
        "        outputs = model(images)\n",
        "        train_step_loss = criterion(outputs, labels)\n",
        "\n",
        "        # Backward and optimize\n",
        "        optimizer.zero_grad()\n",
        "        train_step_loss.backward()\n",
        "        optimizer.step()\n",
        "\n",
        "        running_train_loss += train_step_loss.item()\n",
        "\n",
        "        #predictions\n",
        "        _, predicted = torch.max(outputs.data, 1)\n",
        "        total += labels.size(0)\n",
        "        correct += (predicted == labels).sum().item()\n",
        "\n",
        "    accuracy = 100.*correct/total\n",
        "\n",
        "    #get the training losses and accuracies\n",
        "    train_loss_average[epoch] = running_train_loss/len(train_loader)\n",
        "    train_accuracy[epoch] = accuracy\n",
        "\n",
        "    print(f'Training Loss: {running_train_loss/len(train_loader)}\\t \\\n",
        "            Training accuracy: {train_accuracy[epoch]}')"
      ],
      "metadata": {
        "id": "SkRQlpLfGvpd"
      },
      "execution_count": null,
      "outputs": []
    },
    {
      "cell_type": "code",
      "source": [
        "def test():\n",
        "    model.eval()\n",
        "\n",
        "    running_valid_loss = 0\n",
        "    correct = 0\n",
        "    total = 0\n",
        "\n",
        "    #validation loop\n",
        "    with torch.no_grad():\n",
        "        for i, (images, labels) in enumerate(test_loader):\n",
        "            images = images.to(device)\n",
        "            labels = labels.to(device)\n",
        "\n",
        "            outputs = model(images)\n",
        "            valid_step_loss = criterion(outputs, labels)\n",
        "\n",
        "            running_valid_loss += valid_step_loss.item()\n",
        "\n",
        "            #predictions\n",
        "            _, predicted = torch.max(outputs.data, 1)\n",
        "            total += labels.size(0)\n",
        "            correct += (predicted == labels).sum().item()\n",
        "\n",
        "    accuracy = 100.*correct/total\n",
        "\n",
        "    #get the validation losses\n",
        "    valid_loss_average[epoch] = running_valid_loss/len(test_loader)\n",
        "    valid_accuracy[epoch] = accuracy\n",
        "\n",
        "\n",
        "    print(f'Validation Loss: {running_valid_loss/len(test_loader)}\\t \\\n",
        "            Validation accuracy: {valid_accuracy[epoch]}\\t \\\n",
        "            LR:{curr_lr}')"
      ],
      "metadata": {
        "id": "9d2pgrFpG0H1"
      },
      "execution_count": null,
      "outputs": []
    },
    {
      "cell_type": "code",
      "source": [
        "start_time = time.time()\n",
        "for epoch in range(num_epochs):\n",
        "    print(f'Epoch: {epoch+1}')\n",
        "\n",
        "    #get the current learning rate\n",
        "    curr_lr = optimizer.param_groups[0]['lr']\n",
        "    \n",
        "    train()\n",
        "    test()\n",
        "\n",
        "    epochs.append(epoch)\n",
        "\n",
        "    #step the learning rate scheduler\n",
        "    scheduler.step()\n",
        "\n",
        "\n",
        "print(\"--- %s seconds ---\" % (time.time() - start_time))\n",
        "print('Finished Training')"
      ],
      "metadata": {
        "id": "RP5vDVN3G3Qe"
      },
      "execution_count": null,
      "outputs": []
    },
    {
      "cell_type": "code",
      "source": [
        "with torch.no_grad():\n",
        "    n_correct = 0\n",
        "    n_samples = 0\n",
        "    n_class_correct = [0 for i in range(10)]\n",
        "    n_class_samples = [0 for i in range(10)]\n",
        "    for images, labels in test_loader:\n",
        "        images = images.to(device)\n",
        "        labels = labels.to(device)\n",
        "        outputs = model(images)\n",
        "        # max returns (value ,index)\n",
        "        _, predicted = torch.max(outputs, 1)\n",
        "        n_samples += labels.size(0)\n",
        "        n_correct += (predicted == labels).sum().item()\n",
        "\n",
        "        for label, prediction in zip(labels, predicted):\n",
        "            if (label == prediction):\n",
        "                n_class_correct[label] += 1\n",
        "            n_class_samples[label] += 1\n",
        "\n",
        "    acc = 100.0 * n_correct / n_samples\n",
        "    print(f'Accuracy of the network: {acc} %')\n",
        "\n",
        "    for i in range(10):\n",
        "        class_acc = 100.0 * n_class_correct[i] / n_class_samples[i]\n",
        "        print(f'Accuracy of {classes[i]}: {class_acc} %')"
      ],
      "metadata": {
        "id": "6sGdNtCtG670"
      },
      "execution_count": null,
      "outputs": []
    },
    {
      "cell_type": "code",
      "source": [
        "def plotLosses(epochs, Loss, title):\n",
        "    plt.figure(figsize=(10,6))\n",
        "    plt.title(title)\n",
        "    plt.plot(epochs, Loss, label = \"Loss\")\n",
        "    plt.legend()\n",
        "    plt.xlabel(\"Epochs\")\n",
        "    plt.ylabel(\"Loss\")\n",
        "    plt.savefig(title + '.png')"
      ],
      "metadata": {
        "id": "v2pld5IsG-xu"
      },
      "execution_count": null,
      "outputs": []
    },
    {
      "cell_type": "code",
      "source": [
        "#plot the loss diagrams and save\n",
        "plotLosses(epochs, train_loss_average, f'ResNet-{opt}_train_loss_lr_{learning_rate}_acc_{acc}')\n",
        "plotLosses(epochs, valid_loss_average, f'ResNet-{opt}_valid_loss_lr_{learning_rate}_acc_{acc}')\n",
        "\n",
        "#plot the loss diagrams and save\n",
        "plt.figure(figsize=(10,6))\n",
        "plt.title(f'ResNet-{opt} lr:{learning_rate} acc:{acc}')\n",
        "plt.plot(epochs, train_loss_average, label = \"Training loss\")\n",
        "plt.plot(epochs, valid_loss_average, label = 'Validation loss')\n",
        "plt.legend()\n",
        "plt.xlabel(\"Epochs\")\n",
        "plt.ylabel(\"Loss\")\n",
        "plt.savefig(f'ResNet-Loss-{opt}_lr_{learning_rate}_acc_{acc}.png')\n",
        "\n",
        "\n",
        "#plot the loss diagrams and save\n",
        "plt.figure(figsize=(10,6))\n",
        "plt.title(f'ResNet-{opt}_lr_{learning_rate}_acc_{acc}')\n",
        "plt.plot(epochs, train_accuracy, label = \"Training Accuracy\")\n",
        "plt.plot(epochs, valid_accuracy, label = 'Validation Accuracy')\n",
        "plt.legend()\n",
        "plt.xlabel(\"Epoch\")\n",
        "plt.ylabel(\"Accuracy\")\n",
        "plt.savefig(f'ResNet-Accuracy-{opt}_lr_{learning_rate}_acc_{acc}.png')\n",
        "\n",
        "PATH = f'./ResNet-{opt}_lr_{learning_rate}_acc_{acc}.pth'\n",
        "torch.save(model.state_dict(), PATH)"
      ],
      "metadata": {
        "id": "BroD1VOSHBf8"
      },
      "execution_count": null,
      "outputs": []
    }
  ]
}